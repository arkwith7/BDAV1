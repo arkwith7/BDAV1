{
 "cells": [
  {
   "cell_type": "code",
   "execution_count": 1,
   "metadata": {},
   "outputs": [],
   "source": [
    "import os\n",
    "import requests\n",
    "import pandas as pd\n",
    "from dotenv import load_dotenv"
   ]
  },
  {
   "cell_type": "code",
   "execution_count": 2,
   "metadata": {},
   "outputs": [],
   "source": [
    "# 환경 변수 불러오기\n",
    "load_dotenv()\n",
    "\n",
    "# .env 파일에서 정보 읽기\n",
    "USER_ID = os.getenv('API_USER_ID')\n",
    "API_KEY = os.getenv('API_KEY')\n",
    "API_FORMAT_NUMBER = os.getenv('API_FORMAT_NUMBER')"
   ]
  },
  {
   "cell_type": "code",
   "execution_count": null,
   "metadata": {},
   "outputs": [],
   "source": [
    "# print(USER_ID)\n",
    "# print(API_KEY)\n",
    "# print(API_FORMAT_NUMBER)"
   ]
  },
  {
   "cell_type": "code",
   "execution_count": 3,
   "metadata": {},
   "outputs": [],
   "source": [
    "def fetch_data(year):\n",
    "    \"\"\"API에서 특정 연도의 데이터를 가져오는 함수\"\"\"\n",
    "    base_url = \"https://www.recycling-info.or.kr/sds/JsonApi.do\"\n",
    "    params = {\n",
    "        'PID': API_FORMAT_NUMBER,\n",
    "        'YEAR': year,\n",
    "        'USRID': USER_ID,\n",
    "        'KEY': API_KEY\n",
    "    }\n",
    "    response = requests.get(base_url, params=params)\n",
    "    if response.status_code == 200:\n",
    "        return response.json()\n",
    "    else:\n",
    "        print(f\"Error fetching data for year {year}: {response.status_code}\")\n",
    "        return None"
   ]
  },
  {
   "cell_type": "code",
   "execution_count": 4,
   "metadata": {},
   "outputs": [],
   "source": [
    "def create_dataframe(data, year):\n",
    "    \"\"\"주어진 데이터를 데이터프레임으로 변환하고 컬럼명을 한글로 변경하는 함수, 빈 데이터 처리 포함\"\"\"\n",
    "    if data and 'data' in data and data['data']:\n",
    "        data_items = data['data']\n",
    "        headers = data['dataHeader'][0]\n",
    "\n",
    "        # 연도에 따른 매핑 설정\n",
    "        if year >= 2019:\n",
    "            # 2019년 이상 데이터 매핑\n",
    "            column_mapping = {\n",
    "                'CITY_JIDT_CD_NM': '시도',\n",
    "                'CTS_JIDT_CD_NM': '시군구',\n",
    "                'WT_TYPE_GB_NM': '폐기물 대분류',\n",
    "                'WSTE_M_CODE_NM': '폐기물 중분류',\n",
    "                'WSTE_CODE_NM': '폐기물 소분류',\n",
    "                'WSTE_QTY': '전체발생량',\n",
    "                'TOT_RECY_QTY': '총계_재활용',\n",
    "                'TOT_INCI_QTY': '총계_소각',\n",
    "                'TOT_FILL_QTY': '총계_매립',\n",
    "                'TOT_ETC_QTY': '총계_기타'\n",
    "            }\n",
    "        else:\n",
    "            # 2018년 이전 데이터 매핑\n",
    "            column_mapping = {\n",
    "                'CITY_JIDT_NM': '시도',\n",
    "                'CTS_JIDT_NM': '시군구',\n",
    "                'TOT_SUM_QTY': '전체발생량',\n",
    "                'TOT_RECY_QTY': '총계_재활용',\n",
    "                'TOT_INCI_QTY': '총계_소각',\n",
    "                'TOT_FILL_QTY': '총계_매립'\n",
    "            }\n",
    "\n",
    "        # 데이터프레임 생성\n",
    "        df = pd.DataFrame(data_items)\n",
    "        \n",
    "        # 컬럼명 변경\n",
    "        df.rename(columns=column_mapping, inplace=True)\n",
    "\n",
    "        # 2018년 이전 데이터에 대한 추가 컬럼 설정\n",
    "        if year < 2019:\n",
    "            df['폐기물 대분류'] = ''\n",
    "            df['폐기물 중분류'] = ''\n",
    "            df['폐기물 소분류'] = ''\n",
    "            df['총계_기타'] = 0  # 총계_기타에 0 채우기\n",
    "\n",
    "        # 최종적으로 선택할 컬럼\n",
    "        final_columns = [\n",
    "            '시도', '시군구', '폐기물 대분류', '폐기물 중분류', '폐기물 소분류',\n",
    "            '전체발생량', '총계_재활용', '총계_소각', '총계_매립', '총계_기타'\n",
    "        ]\n",
    "        df = df[final_columns]  # 필요한 컬럼만 선택\n",
    "    else:\n",
    "        # 데이터가 없는 경우 표준 컬럼으로 빈 데이터프레임 생성\n",
    "        df = pd.DataFrame(columns=final_columns)\n",
    "    \n",
    "    df.insert(0, '발생년도', year)  # '발생년도' 컬럼을 첫 번째 위치에 추가\n",
    "    return df"
   ]
  },
  {
   "cell_type": "code",
   "execution_count": 19,
   "metadata": {},
   "outputs": [],
   "source": [
    "def main():\n",
    "    # 데이터를 가져올 연도 범위 설정\n",
    "    years = range(2014, 2024)  # 예: 2020년부터 2023년까지\n",
    "    \n",
    "    # 연도별 데이터 프레임을 저장할 리스트\n",
    "    data_frames = []\n",
    "    \n",
    "    for year in years:\n",
    "        data = fetch_data(year)\n",
    "        # data에 헤더만 존재하고 data['data']에 구체적인 데이터가 없을 경우 건너뛰기\n",
    "        # data['data'][0]에서 {'PRIMARYVAL': 'NODATA'} 일때 해당 데이터는 없는 것으로 판단\n",
    "        # print(data['data'][0])\n",
    "        # if data and 'data' in data and data['data'] and data['data'][0]['PRIMARYVAL'] == 'NODATA':\n",
    "        #     print(f\"No data found for year {year}\")\n",
    "        #     continue\n",
    "       \n",
    "        df = create_dataframe(data, year)\n",
    "        df.reset_index(drop=True, inplace=True)  # 인덱스 리셋\n",
    "        data_frames.append(df)\n",
    "    \n",
    "    # 모든 데이터 프레임을 하나로 합치기\n",
    "    final_df = pd.concat(data_frames, ignore_index=True)\n",
    "\n",
    "    # Excel 파일로 저장\n",
    "    final_df.to_excel('data/combined_data.xlsx', index=False, engine='openpyxl')    \n",
    "    # 결과를 CSV 파일로 저장\n",
    "    # final_df.to_csv('data/combined_data.csv', index=False, encoding='cp949', sep=';', quotechar='\"')\n",
    "    print(\"Data has been successfully saved to 'data/combined_data.csv'\")"
   ]
  },
  {
   "cell_type": "code",
   "execution_count": 20,
   "metadata": {},
   "outputs": [
    {
     "name": "stdout",
     "output_type": "stream",
     "text": [
      "{'TOT_FILL_QTY': 6271.7, 'ATO_OGIT_SUM_QTY': 32477.7, 'TM_COM_SUM_QTY': 9658.4, 'TM_COM_INCI_QTY': 492.1, 'TM_SDP_FILL_QTY': 0, 'CTS_JIDT_NM': '합계', 'TM_SDP_SUM_QTY': 219.1, 'TM_SDP_INCI_QTY': 0, 'TOT_SUM_QTY': 42355.2, 'TM_COM_RECY_QTY': 9010.6, 'TOT_INCI_QTY': 11530.6, 'CITY_JIDT_NM': '전국', 'TOT_RECY_QTY': 24552.9, 'ATO_OGIT_INCI_QTY': 11038.5, 'TM_COM_FILL_QTY': 155.7, 'ATO_OGIT_RECY_QTY': 15323.2, 'ATO_OGIT_FILL_QTY': 6116, 'TM_SDP_RECY_QTY': 219.1}\n"
     ]
    },
    {
     "ename": "KeyError",
     "evalue": "'PRIMARYVAL'",
     "output_type": "error",
     "traceback": [
      "\u001b[0;31m---------------------------------------------------------------------------\u001b[0m",
      "\u001b[0;31mKeyError\u001b[0m                                  Traceback (most recent call last)",
      "Cell \u001b[0;32mIn[20], line 2\u001b[0m\n\u001b[1;32m      1\u001b[0m \u001b[38;5;28;01mif\u001b[39;00m \u001b[38;5;18m__name__\u001b[39m \u001b[38;5;241m==\u001b[39m \u001b[38;5;124m\"\u001b[39m\u001b[38;5;124m__main__\u001b[39m\u001b[38;5;124m\"\u001b[39m:\n\u001b[0;32m----> 2\u001b[0m     \u001b[43mmain\u001b[49m\u001b[43m(\u001b[49m\u001b[43m)\u001b[49m\n",
      "Cell \u001b[0;32mIn[19], line 13\u001b[0m, in \u001b[0;36mmain\u001b[0;34m()\u001b[0m\n\u001b[1;32m     10\u001b[0m \u001b[38;5;66;03m# data에 헤더만 존재하고 data['data']에 구체적인 데이터가 없을 경우 건너뛰기\u001b[39;00m\n\u001b[1;32m     11\u001b[0m \u001b[38;5;66;03m# data['data'][0]에서 {'PRIMARYVAL': 'NODATA'} 일때 해당 데이터는 없는 것으로 판단\u001b[39;00m\n\u001b[1;32m     12\u001b[0m \u001b[38;5;28mprint\u001b[39m(data[\u001b[38;5;124m'\u001b[39m\u001b[38;5;124mdata\u001b[39m\u001b[38;5;124m'\u001b[39m][\u001b[38;5;241m0\u001b[39m])\n\u001b[0;32m---> 13\u001b[0m \u001b[38;5;28;01mif\u001b[39;00m data \u001b[38;5;129;01mand\u001b[39;00m \u001b[38;5;124m'\u001b[39m\u001b[38;5;124mdata\u001b[39m\u001b[38;5;124m'\u001b[39m \u001b[38;5;129;01min\u001b[39;00m data \u001b[38;5;129;01mand\u001b[39;00m data[\u001b[38;5;124m'\u001b[39m\u001b[38;5;124mdata\u001b[39m\u001b[38;5;124m'\u001b[39m] \u001b[38;5;129;01mand\u001b[39;00m \u001b[43mdata\u001b[49m\u001b[43m[\u001b[49m\u001b[38;5;124;43m'\u001b[39;49m\u001b[38;5;124;43mdata\u001b[39;49m\u001b[38;5;124;43m'\u001b[39;49m\u001b[43m]\u001b[49m\u001b[43m[\u001b[49m\u001b[38;5;241;43m0\u001b[39;49m\u001b[43m]\u001b[49m\u001b[43m[\u001b[49m\u001b[38;5;124;43m'\u001b[39;49m\u001b[38;5;124;43mPRIMARYVAL\u001b[39;49m\u001b[38;5;124;43m'\u001b[39;49m\u001b[43m]\u001b[49m \u001b[38;5;241m==\u001b[39m \u001b[38;5;124m'\u001b[39m\u001b[38;5;124mNODATA\u001b[39m\u001b[38;5;124m'\u001b[39m:\n\u001b[1;32m     14\u001b[0m     \u001b[38;5;28mprint\u001b[39m(\u001b[38;5;124mf\u001b[39m\u001b[38;5;124m\"\u001b[39m\u001b[38;5;124mNo data found for year \u001b[39m\u001b[38;5;132;01m{\u001b[39;00myear\u001b[38;5;132;01m}\u001b[39;00m\u001b[38;5;124m\"\u001b[39m)\n\u001b[1;32m     15\u001b[0m     \u001b[38;5;28;01mcontinue\u001b[39;00m\n",
      "\u001b[0;31mKeyError\u001b[0m: 'PRIMARYVAL'"
     ]
    }
   ],
   "source": [
    "if __name__ == \"__main__\":\n",
    "    main()"
   ]
  },
  {
   "cell_type": "code",
   "execution_count": null,
   "metadata": {},
   "outputs": [],
   "source": []
  }
 ],
 "metadata": {
  "kernelspec": {
   "display_name": "venv",
   "language": "python",
   "name": "python3"
  },
  "language_info": {
   "codemirror_mode": {
    "name": "ipython",
    "version": 3
   },
   "file_extension": ".py",
   "mimetype": "text/x-python",
   "name": "python",
   "nbconvert_exporter": "python",
   "pygments_lexer": "ipython3",
   "version": "3.11.5"
  }
 },
 "nbformat": 4,
 "nbformat_minor": 2
}
